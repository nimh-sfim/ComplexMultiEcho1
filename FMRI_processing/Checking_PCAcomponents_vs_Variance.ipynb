{
 "cells": [
  {
   "cell_type": "code",
   "execution_count": null,
   "metadata": {},
   "outputs": [],
   "source": [
    "import os\n",
    "import pandas as pd\n",
    "import numpy as np\n",
    "import matplotlib.pyplot as plt\n",
    "from subprocess import run\n",
    "from glob import glob\n",
    "from sklearn.linear_model import LinearRegression"
   ]
  },
  {
   "cell_type": "code",
   "execution_count": null,
   "metadata": {},
   "outputs": [],
   "source": [
    "rootdir=\"/Volumes/NIMH_SFIM/handwerkerd/ComplexMultiEcho1/Data\"\n",
    "os.chdir(rootdir)\n",
    "numsbj=11\n",
    "numruns=3\n",
    "sbjcol=[]\n",
    "runcol=[]\n",
    "for sbjidx in range(numsbj):\n",
    "    for runidx in range(numruns):\n",
    "        sbjcol.append(f\"sub-{(sbjidx+1):02}\")\n",
    "        runcol.append(runidx+1)\n",
    "\n",
    "# Initialize the DataFrame with one run for each subject and run\n",
    "CompVar = pd.DataFrame({\"sbj\": sbjcol, \"run\": runcol})\n"
   ]
  },
  {
   "cell_type": "code",
   "execution_count": null,
   "metadata": {},
   "outputs": [],
   "source": [
    "pcamethods = ['kic', 'c65', 'c70', 'c75']\n",
    "rowidx=0\n",
    "\n",
    "CompVar[f'motion'] = None\n",
    "for pmethod in pcamethods:\n",
    "    CompVar[f'{pmethod} norm var'] = None\n",
    "    CompVar[f'{pmethod} numcomp'] = None\n",
    "    CompVar[f'{pmethod} varex'] = None\n",
    "\n",
    "for sbjidx in range(numsbj):\n",
    "    sbj = f\"sub-{(sbjidx+1):02}\"\n",
    "    # Calculate mean motion per run\n",
    "    motpd = pd.read_csv(f\"{rootdir}/{sbj}/afniproc_orig/WNW/{sbj}.results/motion_{sbj}_enorm.1D\")\n",
    "    mot = np.squeeze(motpd.to_numpy())\n",
    "    runlen = int(len(mot)/3)\n",
    "    meanmot = np.array([(mot[0:runlen]).mean(), (mot[runlen:(2*runlen)]).mean(), (mot[(2*runlen):len(mot)]).mean()])\n",
    "\n",
    "    for runidx in range(numruns):\n",
    "\n",
    "        CompVar.loc[rowidx, f'motion'] = meanmot[runidx]\n",
    "        \n",
    "        for pmethod in pcamethods:\n",
    "            tmpfile = glob(f\"{rootdir}/{sbj}/afniproc_orig/WNW/{sbj}.results/tedana_{pmethod}_r0{runidx+1}/tedana_202?-??-*.tsv\")\n",
    "            # reading in normalized variance\n",
    "            tmpcmd = run([\"grep\",\n",
    "                \"normalized variance explained using\", tmpfile[0]\n",
    "            ], capture_output=True)\n",
    "            tmpstr = str(tmpcmd.stdout)\n",
    "\n",
    "            tmp_preidx = tmpstr.find('with')\n",
    "            tmp_postidx = tmpstr.find('normalized variance explained using')\n",
    "            if tmp_preidx>0 and tmp_postidx<len(tmpstr):\n",
    "                CompVar.loc[rowidx, f'{pmethod} norm var'] = float(tmpstr[(tmp_preidx+4):(tmp_postidx-2)])\n",
    "            # reading in variance explained\n",
    "            tmpcmd = run([\"grep\",\n",
    "                \"Variance explained by decomposition:\", tmpfile[0]\n",
    "            ], capture_output=True)\n",
    "            tmpstr = str(tmpcmd.stdout)\n",
    "\n",
    "            tmp_preidx = tmpstr.find(\"decomposition:\")\n",
    "            tmp_postidx = tmpstr.find('%')\n",
    "            if tmp_preidx>0 and tmp_postidx<len(tmpstr):\n",
    "                CompVar.loc[rowidx, f'{pmethod} varex'] = float(tmpstr[(tmp_preidx+14):(tmp_postidx)])\n",
    "\n",
    "\n",
    "        # reading in number of components\n",
    "        for pmethod in pcamethods:\n",
    "            tmpcmd = run([\"wc\", \"-l\",\n",
    "                        f\"{rootdir}/{sbj}/afniproc_orig/WNW/{sbj}.results/tedana_{pmethod}_r0{runidx+1}/pca_metrics.tsv\"\n",
    "            ], capture_output=True)\n",
    "            tmpstr = (tmpcmd.stdout).decode('utf-8')\n",
    "            try:\n",
    "                CompVar.loc[rowidx, f'{pmethod} numcomp'] = int(tmpstr.split(\"/\")[0])-1\n",
    "            except:\n",
    "                CompVar.loc[rowidx, f'{pmethod} numcomp'] = None\n",
    "\n",
    "        rowidx+=1\n",
    "CompVar"
   ]
  },
  {
   "cell_type": "code",
   "execution_count": null,
   "metadata": {},
   "outputs": [],
   "source": [
    "# CompVar.plot.scatter(x='kic numcomp', y='kic norm var')\n",
    "markersize=1\n",
    "ax1= CompVar.plot.scatter(x='kic norm var', y='kic varex', color='b', s=markersize)\n",
    "CompVar.plot.scatter(x='c65 norm var', y='c65 varex', color='r',s=markersize, ax=ax1)\n",
    "CompVar.plot.scatter(x='c70 norm var', y='c70 varex', color='g', s=markersize, ax=ax1)\n",
    "CompVar.plot.scatter(x='c75 norm var', y='c75 varex', color='c', s=markersize, ax=ax1)\n",
    "# ax1.plot(np.linspace(70, 80), np.linspace(70,80), color='k')\n",
    "ax1.legend([\"kic\", 'c65', 'c70', 'c75'])\n",
    "ax1.set_xlabel(\"Normalized Variance\")\n",
    "ax1.set_ylabel(\"Variance\")\n"
   ]
  },
  {
   "cell_type": "code",
   "execution_count": null,
   "metadata": {},
   "outputs": [],
   "source": [
    "\n",
    "markersize=1\n",
    "ax1= CompVar.plot.scatter(x='motion', y='kic norm var', color='b', s=markersize)\n",
    "CompVar.plot.scatter(x='motion', y='c65 norm var', color='r',s=markersize, ax=ax1)\n",
    "CompVar.plot.scatter(x='motion', y='c70 norm var', color='g', s=markersize, ax=ax1)\n",
    "CompVar.plot.scatter(x='motion', y='c75 norm var', color='c', s=markersize, ax=ax1)\n",
    "\n",
    "model = LinearRegression()\n",
    "model.fit((CompVar['motion'].to_numpy()).reshape(-1, 1), CompVar['kic norm var'].to_numpy())\n",
    "x_new = np.linspace(0.03, 0.18, 50)\n",
    "y_new = model.predict(x_new[:, np.newaxis])\n",
    "ax1.plot(x_new, y_new, color='b', linewidth=0.5)\n",
    "\n",
    "model = LinearRegression()\n",
    "model.fit((CompVar['motion'].to_numpy()).reshape(-1, 1), CompVar['c65 norm var'].to_numpy())\n",
    "x_new = np.linspace(0.03, 0.18, 50)\n",
    "y_new = model.predict(x_new[:, np.newaxis])\n",
    "ax1.plot(x_new, y_new, color='r', linewidth=0.5)\n",
    "\n",
    "model = LinearRegression()\n",
    "model.fit((CompVar['motion'].to_numpy()).reshape(-1, 1), CompVar['c70 norm var'].to_numpy())\n",
    "x_new = np.linspace(0.03, 0.18, 50)\n",
    "y_new = model.predict(x_new[:, np.newaxis])\n",
    "ax1.plot(x_new, y_new, color='g', linewidth=0.5)\n",
    "\n",
    "model = LinearRegression()\n",
    "model.fit((CompVar['motion'].to_numpy()).reshape(-1, 1), CompVar['c75 norm var'].to_numpy())\n",
    "x_new = np.linspace(0.03, 0.18, 50)\n",
    "y_new = model.predict(x_new[:, np.newaxis])\n",
    "ax1.plot(x_new, y_new, color='c', linewidth=0.5)\n",
    "\n",
    "# ax1.plot(np.linspace(70, 80), np.linspace(70,80), color='k')\n",
    "ax1.legend([\"kic\", 'c65', 'c70', 'c75'])\n",
    "ax1.set_xlabel(\"motion\")\n",
    "ax1.set_ylabel(\"Normalized Variance\")"
   ]
  },
  {
   "cell_type": "code",
   "execution_count": null,
   "metadata": {},
   "outputs": [],
   "source": [
    "markersize=1\n",
    "ax1= CompVar.plot.scatter(x='motion', y='kic varex', color='b', s=markersize)\n",
    "CompVar.plot.scatter(x='motion', y='c65 varex', color='r',s=markersize, ax=ax1)\n",
    "CompVar.plot.scatter(x='motion', y='c70 varex', color='g', s=markersize, ax=ax1)\n",
    "CompVar.plot.scatter(x='motion', y='c75 varex', color='c', s=markersize, ax=ax1)\n",
    "# ax1.plot(np.linspace(70, 80), np.linspace(70,80), color='k')\n",
    "ax1.legend([\"kic\", 'c65', 'c70', 'c75'])\n",
    "ax1.set_xlabel(\"motion\")\n",
    "ax1.set_ylabel(\"Variance\")"
   ]
  },
  {
   "cell_type": "code",
   "execution_count": null,
   "metadata": {},
   "outputs": [],
   "source": [
    "print(f\"Mean normvar {CompVar['kic norm var'].mean()}\")\n",
    "print(f\"Median normvar {CompVar['kic norm var'].median()}\")\n",
    "print(f\"Mean var {CompVar['kic varex'].mean()}\")\n",
    "print(f\"Median var {CompVar['kic varex'].median()}\")"
   ]
  },
  {
   "cell_type": "code",
   "execution_count": null,
   "metadata": {},
   "outputs": [],
   "source": [
    "motpd = pd.read_csv(f\"{rootdir}/sub-01/afniproc_orig/WNW/sub-01.results/motion_sub-01_enorm.1D\")\n",
    "mot = np.squeeze(motpd.to_numpy())\n",
    "runlen = int(len(mot)/3)\n",
    "meanmot = np.array([(mot[0:runlen]).mean(), (mot[runlen:(2*runlen)]).mean(), (mot[(2*runlen):len(mot)]).mean()])\n",
    "print(meanmot)"
   ]
  },
  {
   "cell_type": "code",
   "execution_count": null,
   "metadata": {},
   "outputs": [],
   "source": [
    "mot"
   ]
  }
 ],
 "metadata": {
  "interpreter": {
   "hash": "c48404ffa70e546bd90c6689a92d1a12bafcce103c146a901882f89aabcf6faa"
  },
  "kernelspec": {
   "display_name": "Python 3.9.10 ('base')",
   "language": "python",
   "name": "python3"
  },
  "language_info": {
   "codemirror_mode": {
    "name": "ipython",
    "version": 3
   },
   "file_extension": ".py",
   "mimetype": "text/x-python",
   "name": "python",
   "nbconvert_exporter": "python",
   "pygments_lexer": "ipython3",
   "version": "3.9.10"
  },
  "orig_nbformat": 4
 },
 "nbformat": 4,
 "nbformat_minor": 2
}
