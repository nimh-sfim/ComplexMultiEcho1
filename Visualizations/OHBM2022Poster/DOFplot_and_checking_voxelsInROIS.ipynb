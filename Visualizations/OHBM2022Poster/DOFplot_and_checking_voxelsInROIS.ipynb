{
 "cells": [
  {
   "cell_type": "code",
   "execution_count": null,
   "metadata": {},
   "outputs": [],
   "source": [
    "# imports #\n",
    "import matplotlib.pyplot as plt\n",
    "from matplotlib import cm\n",
    "import numpy as np\n",
    "import pandas as pd\n",
    "import socket\n"
   ]
  },
  {
   "cell_type": "code",
   "execution_count": null,
   "metadata": {},
   "outputs": [],
   "source": [
    "\n",
    "# Parameters #\n",
    "# number of subjects\n",
    "num=13\n",
    "# root\n",
    "if \"biowulf\" in socket.gethostname():\n",
    "    root= \"/data/NIMH_SFIM/handwerkerd/ComplexMultiEcho1/Data/GroupResults/ROIstats/\"\n",
    "    outdir=root\n",
    "else:\n",
    "    root=\"/Volumes/NIMH_SFIM/handwerkerd/ComplexMultiEcho1/Data/GroupResults/ROIstats/\"\n",
    "    outdir=\"/Users/handwerkerd/Documents/Presentations/HBM2022/\"\n",
    "# all GLMs\n",
    "glms = [\"e2_mot_CSF\",\"OC_mot_CSF\",\"orthtedana_mot_csf\", \"combined_regressors\"]\n",
    "# glms=[\"combined_regressors\",\"e2_mot_CSF\",\"OC_mot\",\"OC_mot_CSF\",\"orthtedana_mot\",\"orthtedana_mot_csf\",\"septedana_mot\",\"septedana_mot_csf\"]\n",
    "colors=[\"pink\",\"red\",\"blue\",\"green\",\"yellow\",\"orange\",\"brown\",\"purple\"]\n",
    "# all ROIs\n",
    "rois=['L V1','R V1','L A1','R A1','lPrecuneus','rPrecuneus','lIFG','rIFG','lSTS','rSTS','lMTG', 'rMTG']\n",
    "#rois=[\"lCerebrellum\",\"lHippocampus\",\"rCerebellum\",\"rHippocampus\",\"lCuneus\",\"lIFG\",\"l Middle Occipital\",\"L latFusiform\",\"lSPG\",\"lPrecuneus\",\"lITG\",\"lMTG\",\"L V1\",\"lITS\",\"lSTS\",\"L A1\",\"rCuneus\",\"rIFG\",\"r Middle Occipital\",\"R latFusiform\",\"rSPG\",\"rPrecuneus\",\"rITG\",\"rMTG\",\"R V1\",\"rITS\",\"rSTS\",\"R A1\"] \n",
    "# colors\n",
    "viridis=cm.get_cmap('viridis', len(rois))\n",
    "color_cycler = viridis(np.linspace(0,1,len(rois)))\n",
    "##############\n"
   ]
  },
  {
   "cell_type": "code",
   "execution_count": null,
   "metadata": {},
   "outputs": [],
   "source": [
    "\n",
    "# Degrees of freedom across the GLMs\n",
    "glms = [\"e2_mot_CSF\",\"OC_mot_CSF\",\"orthtedana_mot_csf\", \"combined_regressors\"]\n",
    "dof = pd.read_csv(f\"{root}DOF_GLMs_All_group.tsv\", sep='\\t')\n",
    "fig = plt.figure(figsize=(5,8))\n",
    "plt.plot(dof[glms].T)\n",
    "plt.title(\"Degrees of Freedom\")\n",
    "plt.show()\n",
    "\n"
   ]
  },
  {
   "cell_type": "code",
   "execution_count": null,
   "metadata": {},
   "outputs": [],
   "source": [
    "# USED ON OHBM 2022 POSTER\n",
    "# Degrees of freedom across the GLMs\n",
    "\n",
    "# From sub-08 OC_mot_CSF:\n",
    "# initial DF                   : 1035 : 100.0%\n",
    "# DF used for regs of interest :    5 :   0.5%\n",
    "# DF used for censoring        :    5 :   0.5%\n",
    "# DF used for polort           :   15 :   1.4%\n",
    "# DF used for motion           :   36 :   3.5%\n",
    "# DF used for ROIPC            :    9 :   0.9%\n",
    "# total DF used                :   70 :   6.8%\n",
    "# final DF                     :  965 :  93.2%\n",
    "# Ignoring censoring, 60 of 1035 DF are used for noise removal. That should be a consistent baseline\n",
    "\n",
    "glms = [\"e2_mot_CSF\",\"OC_mot_CSF\",\"orthtedana_mot_csf\", \"combined_regressors\"]\n",
    "dof = pd.read_csv(f\"{root}DOF_GLMs_All_group.tsv\", sep='\\t')\n",
    "baseshift = dof[\"e2_mot_CSF\"]+60\n",
    "for glm in glms:\n",
    "    dof[glm] = dof[glm]-baseshift\n",
    "\n",
    "fig = plt.figure(figsize=(5,5))\n",
    "ax = fig.subplots()\n",
    "plt.plot(dof[glms].T)\n",
    "plt.title(\"Lost Degrees of Freedom from Noise Removal\")\n",
    "ax.set_xticklabels(['2nd echo: motion+CSF', 'Opt Combined: motion+CSF', 'Tedana: motion+CSF', 'Combined Regressors'])\n",
    "plt.xticks(rotation = 15) #, fontsize=14)\n",
    "plt.show()\n",
    "fig.savefig(f\"{outdir}DOF_loss.eps\")"
   ]
  },
  {
   "cell_type": "code",
   "execution_count": null,
   "metadata": {},
   "outputs": [],
   "source": [
    "voxels_per_glm=dict()\n",
    "for gidx, g in enumerate(glms):\n",
    "    voxels_per_glm[g] = pd.read_csv(f\"{root}{g}_Voxels_group.tsv\", sep='\\t')\n",
    "\n",
    "    if gidx==0:\n",
    "        voxelcounts = voxels_per_glm[g]\n",
    "        voxelcounts_nan0=np.nan_to_num(voxelcounts.to_numpy())\n",
    "    else:\n",
    "        tmp = np.nan_to_num(voxels_per_glm[g].to_numpy()) - voxelcounts_nan0\n",
    "        if tmp.sum() > 0.0:\n",
    "            raise ValueError(\"Voxel counts should be the same across GLMs, but are not\")\n",
    "print((voxelcounts[rois]>5).sum())\n"
   ]
  }
 ],
 "metadata": {
  "interpreter": {
   "hash": "c48404ffa70e546bd90c6689a92d1a12bafcce103c146a901882f89aabcf6faa"
  },
  "kernelspec": {
   "display_name": "Python 3.9.10 ('base')",
   "language": "python",
   "name": "python3"
  },
  "language_info": {
   "codemirror_mode": {
    "name": "ipython",
    "version": 3
   },
   "file_extension": ".py",
   "mimetype": "text/x-python",
   "name": "python",
   "nbconvert_exporter": "python",
   "pygments_lexer": "ipython3",
   "version": "3.9.10"
  },
  "orig_nbformat": 4
 },
 "nbformat": 4,
 "nbformat_minor": 2
}
