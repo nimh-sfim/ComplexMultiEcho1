{
 "cells": [
  {
   "cell_type": "code",
   "execution_count": 24,
   "metadata": {},
   "outputs": [],
   "source": [
    "import xlrd\n",
    "import xlwt\n",
    "import numpy as np"
   ]
  },
  {
   "cell_type": "code",
   "execution_count": 25,
   "metadata": {},
   "outputs": [
    {
     "data": {
      "text/plain": [
       "'bolt'"
      ]
     },
     "execution_count": 25,
     "metadata": {},
     "output_type": "execute_result"
    }
   ],
   "source": [
    "stimuli_wb = xlrd.open_workbook('/Users/handwerkerd/Documents/experiments/FastLoc/fastloc_20191105/AllStimuliSets.xlsx') \n",
    "stimorder_wb = xlrd.open_workbook('/Users/handwerkerd/Documents/experiments/FastLoc/fastloc_20191105/fastloc.events.adv.1.xlsx')\n",
    "\n",
    "AllVis = wb.sheet_by_name('VisProc') \n",
    "  \n",
    "# For row 0 and column 0 \n",
    "AllVis.cell_value(0, 5)"
   ]
  },
  {
   "cell_type": "code",
   "execution_count": 45,
   "metadata": {},
   "outputs": [],
   "source": [
    "StimLabelSheetName=('VisProc', 'FalVisProc', 'AudProc', 'FalAudProc')\n",
    "StimLabelOrder=('VisProc', 'FalVisProc', 'AudProc', 'AudProc')\n",
    "NewConditionOrder=(1, 3, 2, 4)\n",
    "for runidx in range(8):\n",
    "    tmprun_wb = xlwt.Workbook()\n",
    "    tmprun_ws = tmprun_wb.add_sheet('Run' + str(runidx+1))\n",
    "    tmprun_ws.write(0, 0, 'Run')\n",
    "    tmprun_ws.write(0, 1, 'TrialN')\n",
    "    tmprun_ws.write(0, 2, 'Procedure')\n",
    "    tmprun_ws.write(0, 3, 'Font')\n",
    "    tmprun_ws.write(0, 4, 'StartTR2000')\n",
    "    tmprun_ws.write(0, 5, 'ITI2000')  \n",
    "    tmprun_ws.write(0, 6, 'StartTR650')\n",
    "    tmprun_ws.write(0, 7, 'ITI650') \n",
    "    tmprun_ws.write(0, 8, 'Condition')\n",
    "    tmprun_ws.write(0, 9, 'target1')\n",
    "    tmprun_ws.write(0, 10, 'target2')\n",
    "    tmprun_ws.write(0, 11, 'target3')\n",
    "    tmprun_ws.write(0, 12, 'target4')\n",
    "    tmprun_ws.write(1,0, runidx+1)\n",
    "    tmprun_ws.write(1,1, 0)\n",
    "    tmprun_ws.write(1,2, 'Null')\n",
    "    tmprun_ws.write(1,3, 'Arial')\n",
    "    tmprun_ws.write(1,4, 0)\n",
    "    tmprun_ws.write(1,5, 12)\n",
    "    tmprun_ws.write(1,6, 0)\n",
    "    tmprun_ws.write(1,7, 0)\n",
    "    tmprun_ws.write(1,8, 0)\n",
    "\n",
    "    RandPerms = np.array([np.random.permutation(24), np.random.permutation(24), \n",
    "                          np.random.permutation(24), np.random.permutation(24)])\n",
    "    RandPermsIdx = np.array([0, 0, 0, 0])\n",
    "    tmporder = stimorder_wb.sheet_by_index(runidx)\n",
    "    for stimidx in range(68):\n",
    "        tmpcond = round(tmporder.cell_value(stimidx,0))\n",
    "        #print(tmpcond)\n",
    "        tmprun_ws.write(stimidx+2,0, runidx+1)\n",
    "        tmprun_ws.write(stimidx+2,1, stimidx+1)\n",
    "        tmprun_ws.write(stimidx+2,2, StimLabelOrder[tmpcond])\n",
    "        if tmpcond==1:\n",
    "            tmprun_ws.write(stimidx+2,3, 'Wingdings')\n",
    "        else:\n",
    "            tmprun_ws.write(stimidx+2,3, 'Arial')\n",
    "        tmprun_ws.write(stimidx+2,4, round(tmporder.cell_value(stimidx,2)))\n",
    "        tmprun_ws.write(stimidx+2,5, round(tmporder.cell_value(stimidx,4))+4)\n",
    "        tmprun_ws.write(stimidx+2,6, 0)\n",
    "        tmprun_ws.write(stimidx+2,7, 0)\n",
    "        tmprun_ws.write(stimidx+2,8, NewConditionOrder[tmpcond])\n",
    "        tmpstimtargets = stimuli_wb.sheet_by_name(StimLabelSheetName[tmpcond])\n",
    "        tmprun_ws.write(stimidx+2,9, tmpstimtargets.cell_value(RandPerms[tmpcond,RandPermsIdx[tmpcond]], 2))\n",
    "        tmprun_ws.write(stimidx+2,10, tmpstimtargets.cell_value(RandPerms[tmpcond,RandPermsIdx[tmpcond]], 3))\n",
    "        tmprun_ws.write(stimidx+2,11, tmpstimtargets.cell_value(RandPerms[tmpcond,RandPermsIdx[tmpcond]], 4))\n",
    "        tmprun_ws.write(stimidx+2,12, tmpstimtargets.cell_value(RandPerms[tmpcond,RandPermsIdx[tmpcond]], 5))\n",
    "        RandPermsIdx[tmpcond] = RandPermsIdx[tmpcond]+1\n",
    "    tmprun_ws.write(70,0, runidx+1)    \n",
    "    tmprun_ws.write(70,1, 69)\n",
    "    tmprun_ws.write(70,2, 'Null')\n",
    "    tmprun_ws.write(70,3, 'Arial')\n",
    "    tmprun_ws.write(70,4, round(tmporder.cell_value(67,2))+ round(tmporder.cell_value(67,4))+4)\n",
    "    tmprun_ws.write(70,5, 12)\n",
    "    tmprun_ws.write(70,6, 0)\n",
    "    tmprun_ws.write(70,7, 0)\n",
    "    tmprun_ws.write(70,8, 0)\n",
    "    tmprun_wb.save('fastloc_newrun' + str(runidx+1) + '.xls')\n",
    "    \n"
   ]
  },
  {
   "cell_type": "code",
   "execution_count": 16,
   "metadata": {},
   "outputs": [
    {
     "data": {
      "text/plain": [
       "array([18, 11, 12,  7, 10,  3,  8, 17, 19,  2, 14,  6,  4,  1, 20, 21,  0,\n",
       "       22, 15,  5,  9, 13, 16, 23])"
      ]
     },
     "execution_count": 16,
     "metadata": {},
     "output_type": "execute_result"
    }
   ],
   "source": [
    "RandPerms[0,:]"
   ]
  },
  {
   "cell_type": "code",
   "execution_count": null,
   "metadata": {},
   "outputs": [],
   "source": []
  }
 ],
 "metadata": {
  "kernelspec": {
   "display_name": "Python 3",
   "language": "python",
   "name": "python3"
  },
  "language_info": {
   "codemirror_mode": {
    "name": "ipython",
    "version": 3
   },
   "file_extension": ".py",
   "mimetype": "text/x-python",
   "name": "python",
   "nbconvert_exporter": "python",
   "pygments_lexer": "ipython3",
   "version": "3.7.3"
  }
 },
 "nbformat": 4,
 "nbformat_minor": 2
}
