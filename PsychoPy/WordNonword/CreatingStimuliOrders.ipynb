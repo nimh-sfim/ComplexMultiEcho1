{
 "cells": [
  {
   "cell_type": "code",
   "execution_count": 1,
   "metadata": {},
   "outputs": [],
   "source": [
    "import pandas as pd\n",
    "import numpy as np\n",
    "import os"
   ]
  },
  {
   "cell_type": "code",
   "execution_count": 2,
   "metadata": {},
   "outputs": [
    {
     "name": "stdout",
     "output_type": "stream",
     "text": [
      "     Procedure  ProcedureID    target1    target2     target3     target4  \\\n",
      "0      VisProc            1     bright      crowd        bolt        bolt   \n",
      "1      VisProc            1        bed      grass        tape        view   \n",
      "2      VisProc            1        mug      frame        hill        hill   \n",
      "3      VisProc            1       clay       flea        lawn        lawn   \n",
      "4      VisProc            1       shop       flat        chip        chip   \n",
      "..         ...          ...        ...        ...         ...         ...   \n",
      "91  FalAudProc            4   full_fal   draw_fal    fort_fal    vote_fal   \n",
      "92  FalAudProc            4    art_fal    bit_fal  spring_fal  spring_fal   \n",
      "93  FalAudProc            4   love_fal   jazz_fal   truck_fal   truck_fal   \n",
      "94  FalAudProc            4   slow_fal   land_fal    bank_fal    girl_fal   \n",
      "95  FalAudProc            4  staff_fal  march_fal    ship_fal    ship_fal   \n",
      "\n",
      "    Expected_Response  \n",
      "0                   1  \n",
      "1                   0  \n",
      "2                   1  \n",
      "3                   1  \n",
      "4                   1  \n",
      "..                ...  \n",
      "91                  0  \n",
      "92                  1  \n",
      "93                  1  \n",
      "94                  0  \n",
      "95                  1  \n",
      "\n",
      "[96 rows x 7 columns]\n"
     ]
    }
   ],
   "source": [
    "all_stim = pd.read_csv(\"AllStimuli.csv\")\n",
    "\n",
    "print(all_stim)"
   ]
  },
  {
   "cell_type": "markdown",
   "metadata": {},
   "source": [
    "Current 17 trials of each type per run. Runs would be 34 trials of each type\n",
    "For 3 runs, 12 trials of each type would give more total trials (maybe do 13 to get more signal?)\n",
    "Convert main stimlus links to CSV files\n",
    "Do all the randomization in this notebook, but set an initial randomization seed so this script will always generate the same stimulus files\n",
    "Output is CSV and then I won't have to worry about reading or writing excel"
   ]
  },
  {
   "cell_type": "code",
   "execution_count": 3,
   "metadata": {},
   "outputs": [],
   "source": [
    "# Set up the parameters that will define the types of runs to generate\n",
    "NumRuns = 9\n",
    "NumTrialsPerType= 12\n",
    "NumTrials = 4 * NumTrialsPerType\n",
    "\n",
    "# The number of trials per type that should have a reponse (i.e. repeated stimulus)\n",
    "NumResponsePerType = 2\n",
    "NumNonresponsePerType = NumTrialsPerType-NumResponsePerType"
   ]
  },
  {
   "cell_type": "code",
   "execution_count": 4,
   "metadata": {},
   "outputs": [
    {
     "name": "stdout",
     "output_type": "stream",
     "text": [
      "[ 8  8  8  8  8  8  8  8  8  8  8  8  8  8  8  8  8  8  8  8  8  8  8 10\n",
      " 10 10 10 10 10 10 10 10 10 10 10 10 12 12 12 12 12 12 14 14 14 16 16]\n",
      "47\n"
     ]
    }
   ],
   "source": [
    "# Create the interstimulus intervals for all trials.\n",
    "# Event related design with 8-16sec ITIs with deceasing frequency\n",
    "# Doing one more of the 2nd shortest and one less of the shortest\n",
    "# trial to give slightly more spacing to trials\n",
    "ITIs = np.concatenate((np.tile(8,int(np.floor(NumTrials/2))-1), \n",
    "        np.tile(10,int(np.floor(NumTrials/4))+1), \n",
    "        np.tile(12,int(np.floor(NumTrials/8))),\n",
    "        np.tile(14,int(np.ceil(NumTrials/16))),\n",
    "        np.tile(16,int(np.ceil(NumTrials/32)))))\n",
    "# The end result should be one fewer ITI than the number of trials\n",
    "# since the final trial will have a longer null period before\n",
    "# the end of the run\n",
    "if len(ITIs) > (NumTrials-1):\n",
    "    print(\"ERROR: Messed up trial counts\")\n",
    "elif len(ITIs) < (NumTrials-1):\n",
    "    AddTrials = NumTrials - 1 - len(ITIs)\n",
    "    ITIs.append(np.tile(12, AddTrials))\n",
    "print(ITIs)\n",
    "print(len(ITIs))"
   ]
  },
  {
   "cell_type": "code",
   "execution_count": 5,
   "metadata": {},
   "outputs": [],
   "source": [
    "# Create\n",
    "# Note there are 24 trials per type so that number is \n",
    "random_state = 525600\n",
    "random_state_increment = 42\n",
    "for runidx in range(9): #NumRuns):\n",
    "    tmprun = pd.DataFrame(columns = all_stim.columns)\n",
    "    for ProcedureID in range(4):\n",
    "        # Select NumResponsePerType trials with responses\n",
    "        tmprun = pd.concat([tmprun,\n",
    "            all_stim[(all_stim['ProcedureID']==(ProcedureID+1)) & (all_stim['Expected_Response']==1)].sample(n=NumResponsePerType, random_state=random_state)])\n",
    "        random_state+=random_state_increment\n",
    "        # Select NumNonresponsePerType trials without responses\n",
    "        tmprun = pd.concat([tmprun,\n",
    "            all_stim[(all_stim['ProcedureID']==(ProcedureID+1)) & (all_stim['Expected_Response']==0)].sample(n=NumNonresponsePerType, random_state=random_state)])\n",
    "        random_state+=random_state_increment\n",
    "    # Create the new run and initialize the first row as a null trial with 14sec of no stimulation\n",
    "    # Note: This is particularly long because the headphones benefit from a long window of noise before\n",
    "    #  noise cancellation starts to work\n",
    "    tmp_shuffledITIs = ITIs\n",
    "    randstate = np.random.RandomState(random_state)\n",
    "    random_state+=random_state_increment\n",
    "    randstate.shuffle(tmp_shuffledITIs)\n",
    "    NullTrial = pd.DataFrame(data = {'Run': [round(runidx+1)], 'TrialN': [round(0)],'ProcedureID': [int(0)], 'Procedure': ['Null'], 'Font': ['Arial'],\n",
    "                                           'ITISec': [14], 'target1': [' '],'target2': [' '],'target3': [' '],'target4': [' '],\n",
    "                                           'Expected_Response': [int(0)]})\n",
    "    # GeneratedRun.astype({'Run': 'int32'}).dtypes\n",
    "    GeneratedRun = pd.concat([NullTrial, tmprun.sample(n=NumTrials, random_state=random_state)])\n",
    "    del tmprun\n",
    "    random_state+=random_state_increment\n",
    "    for tidx in range(len(GeneratedRun)):\n",
    "        # Run is column index 0\n",
    "        GeneratedRun.iloc[tidx, 0] = round(runidx+1)\n",
    "        # TrialN is column index 1\n",
    "        GeneratedRun.iloc[tidx, 1] = round(tidx)\n",
    "        # Procedure is column index 3\n",
    "        if GeneratedRun.iloc[tidx, 3]  == 'FalVisProc':\n",
    "            # Font is column index 4\n",
    "            GeneratedRun.iloc[tidx,4] = 'Wingdings'\n",
    "        else:\n",
    "            GeneratedRun.iloc[tidx,4] = 'Arial'\n",
    "        if (tidx>=1) & (tidx<(len(GeneratedRun)-1)):\n",
    "            # ITISec is column index 5\n",
    "            GeneratedRun.iloc[tidx, 5] = tmp_shuffledITIs[tidx-1]\n",
    "        elif tidx == (len(GeneratedRun)-1):\n",
    "            GeneratedRun.iloc[tidx, 5] = 18\n",
    "    NullTrial['ITISec'] = 0\n",
    "    NullTrial['TrialN'] = NumTrials+1\n",
    "    GeneratedRun = pd.concat([GeneratedRun, NullTrial])\n",
    "    GeneratedRun.to_csv(f\"WordNonword_Run{runidx+1}.csv\")\n",
    "    del GeneratedRun\n"
   ]
  }
 ],
 "metadata": {
  "kernelspec": {
   "display_name": "Python 3",
   "language": "python",
   "name": "python3"
  },
  "language_info": {
   "codemirror_mode": {
    "name": "ipython",
    "version": 3
   },
   "file_extension": ".py",
   "mimetype": "text/x-python",
   "name": "python",
   "nbconvert_exporter": "python",
   "pygments_lexer": "ipython3",
   "version": "3.9.10"
  }
 },
 "nbformat": 4,
 "nbformat_minor": 2
}
