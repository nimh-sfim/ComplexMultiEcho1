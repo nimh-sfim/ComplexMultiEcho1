{
 "cells": [
  {
   "cell_type": "markdown",
   "metadata": {},
   "source": []
  },
  {
   "cell_type": "code",
   "execution_count": null,
   "metadata": {},
   "outputs": [],
   "source": [
    "import numpy as np\n",
    "import pandas as pd\n",
    "import matplotlib.pyplot as plt"
   ]
  },
  {
   "cell_type": "code",
   "execution_count": null,
   "metadata": {},
   "outputs": [],
   "source": [
    "# Initialization parameters\n",
    "\n",
    "premovietime = 21\n",
    "movietime = 420\n",
    "postmovietime = 15\n",
    "totaltime = premovietime + movietime + postmovietime"
   ]
  },
  {
   "cell_type": "code",
   "execution_count": null,
   "metadata": {},
   "outputs": [],
   "source": [
    "RespirationTS = []\n",
    "for runidx in range(3):\n",
    "    if runidx == 0:\n",
    "        runID = 'A'\n",
    "        BreathingPhase = 0\n",
    "    elif runidx == 1:\n",
    "        runID = 'B'\n",
    "        BreathingPhase = np.pi\n",
    "    elif runidx == 2:\n",
    "        runID = 'C'\n",
    "        BreathingPhase = np.pi/2\n",
    "\n",
    "    # CREATE BREATHING PATTERNS\n",
    "    # =============================\n",
    "    amp = 0.1 # amplitude of the carrier frequency\n",
    "    AMamp = 0.05 # Amplitude of the AM (depth) modulation\n",
    "    meanshift = 0.11 # The mean circle diameter should always be positive\n",
    "    # Due to frame rate differences and rounding, the final time point might be a few frames past the end of BreathingPattern\n",
    "    #   add an extra second to make sure the script never gets past the last value\n",
    "    TimingFudge = 1 \n",
    "    FC = 1/5 # Averaging 5s breathing cycles\n",
    "    FM = 1/60 # Breathing frequency modulates over 60s cycles\n",
    "    FCscale = (2*FC*np.pi)\n",
    "    FMscale = (2*FM*np.pi)\n",
    "    FreqDev = FC-1/6 # Frequency deviation between 2s and 3s breathing cycles\n",
    "    ModFreq = FreqDev/FM\n",
    "    # Time in seconds spaced in 0.1 second intervals\n",
    "    # NOTE: I realized that I messed up these 0.1 second intervals in linspace so it's actually\n",
    "    #   about 0.10002188662727074 second intervals. For the sake of the script and stimulus presentation\n",
    "    #   this is essentially meaningless. Since several participants are collected with this\n",
    "    #   I'm not changing now, but it's worth noting.\n",
    "    TimeInSec = np.round(np.linspace(0,totaltime+TimingFudge,num=(totaltime+TimingFudge)*10+1), decimals=5)\n",
    "    AMmod = -AMamp*np.cos(2*np.pi*TimeInSec*FM+BreathingPhase)+0.2\n",
    "    BreathingPattern = AMmod*np.sin(2*np.pi*FC*TimeInSec + ModFreq*np.sin(2*np.pi*FM*TimeInSec+BreathingPhase)+BreathingPhase)*amp+meanshift\n",
    "    RespirationTS.append(pd.DataFrame({'Sec': TimeInSec, 'RespSize': BreathingPattern}))\n"
   ]
  },
  {
   "cell_type": "code",
   "execution_count": null,
   "metadata": {},
   "outputs": [],
   "source": [
    "RunLetters = ('A', 'B', 'C')\n",
    "plt.clf()\n",
    "for runidx in range(3):\n",
    "    RespirationTS[runidx].plot(x='Sec', y='RespSize', title=f\"Run{RunLetters[runidx]}\")\n",
    "    RespirationTS[runidx].to_csv(f\"IdealBreathingPattern_Run{RunLetters[runidx]}.tsv\", sep='\\t')"
   ]
  },
  {
   "cell_type": "markdown",
   "metadata": {},
   "source": [
    "Older stuff while I was still testing things out."
   ]
  },
  {
   "cell_type": "code",
   "execution_count": null,
   "metadata": {},
   "outputs": [],
   "source": [
    "amplitude = [0.01,0.02,0.03];\n",
    "frequency = [(1.5*np.pi*0.2),(2*np.pi*0.2),(2.5*np.pi*0.2)];\n",
    "mat1_0,mat1_1,mat1_2 = [(amplitude[0], i) for i in frequency],[(amplitude[1], i) for i in frequency],[(amplitude[2], i) for i in frequency]\n",
    "mat1 = mat1_0+mat1_1+mat1_2\n",
    "matrix_run = mat1\n",
    "resp_pattern = [np.sin(i[1]*np.linspace(0,300,num=3000))*i[0]+0.11 for i in matrix_run]\n"
   ]
  },
  {
   "cell_type": "code",
   "execution_count": null,
   "metadata": {},
   "outputs": [],
   "source": [
    "ScanLength = 15+420+15 # in seconds\n",
    "ScanLength = 36 # in seconds\n",
    "amp = 0.02\n",
    "freq = ((2/4)*np.pi)\n",
    "TimeInSec = np.linspace(0,ScanLength,num=ScanLength*10)\n",
    "BreathingPattern = np.sin(freq*TimeInSec)*amp+0.11\n",
    "plt.plot(TimeInSec, BreathingPattern)"
   ]
  },
  {
   "cell_type": "code",
   "execution_count": null,
   "metadata": {},
   "outputs": [],
   "source": [
    "totaltime =15+420+15 # in seconds\n",
    "# totaltime = 60\n",
    "amp = 0.1 # amplitude of the carrier frequency\n",
    "AMamp = 0.05 # Amplitude of the AM (depth) modulation\n",
    "meanshift = 0.11 # The mean circle diameter should always be positive\n",
    "# Due to frame rate differences and rounding, the final time point might be a few frames past the end of BreathingPattern\n",
    "#   add an extra second to make sure the script never gets past the last value\n",
    "TimingFudge = 1 \n",
    "FC = 1/5 # Averaging 5s breathing cycles\n",
    "FM = 1/60 # Breathing frequency modulates over 60s cycles\n",
    "FCscale = (2*FC*np.pi)\n",
    "FMscale = (2*FM*np.pi)\n",
    "FreqDev = FC-1/6 # Frequency deviation between 2s and 3s breathing cycles\n",
    "ModFreq = FreqDev/FM\n",
    "PhaseShift = np.pi\n",
    "# Time in seconds spaced in 0.1 second intervals\n",
    "TimeInSec = np.linspace(0,totaltime+TimingFudge,num=(totaltime+TimingFudge)*10)\n",
    "AMmod = -AMamp*np.cos(2*np.pi*TimeInSec*FM+PhaseShift)+0.2\n",
    "BreathingPattern = AMmod*np.sin(2*np.pi*FC*TimeInSec + ModFreq*np.sin(2*np.pi*FM*TimeInSec+PhaseShift)+PhaseShift)*amp+meanshift\n",
    "plt.figure()\n",
    "plt.ion\n",
    "plt.plot(TimeInSec, BreathingPattern)"
   ]
  },
  {
   "cell_type": "code",
   "execution_count": null,
   "metadata": {},
   "outputs": [],
   "source": []
  },
  {
   "cell_type": "code",
   "execution_count": null,
   "metadata": {},
   "outputs": [],
   "source": []
  }
 ],
 "metadata": {
  "interpreter": {
   "hash": "c48404ffa70e546bd90c6689a92d1a12bafcce103c146a901882f89aabcf6faa"
  },
  "kernelspec": {
   "display_name": "Python 3.9.10 ('base')",
   "language": "python",
   "name": "python3"
  },
  "language_info": {
   "codemirror_mode": {
    "name": "ipython",
    "version": 3
   },
   "file_extension": ".py",
   "mimetype": "text/x-python",
   "name": "python",
   "nbconvert_exporter": "python",
   "pygments_lexer": "ipython3",
   "version": "3.9.10"
  },
  "orig_nbformat": 4
 },
 "nbformat": 4,
 "nbformat_minor": 2
}
